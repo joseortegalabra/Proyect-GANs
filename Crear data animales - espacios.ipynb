{
 "cells": [
  {
   "cell_type": "code",
   "execution_count": 1,
   "metadata": {},
   "outputs": [],
   "source": [
    "import numpy as np\n",
    "import pandas as pd\n",
    "import matplotlib.pyplot as plt\n",
    "import os\n",
    "from PIL import Image\n",
    "from os import listdir\n",
    "from os.path import isfile, join"
   ]
  },
  {
   "cell_type": "code",
   "execution_count": 2,
   "metadata": {},
   "outputs": [],
   "source": [
    "def escala_de_grises(im):\n",
    "    '''\n",
    "    get from: https://wizardprogrammer.blogspot.com/2019/03/convertir-imagen-blanco-y-negro-python.html\n",
    "    '''\n",
    "    #dimension imagen\n",
    "    x = im.size[0]\n",
    "    y = im.size[1]\n",
    "    #Creamos una nueva imagen con las dimensiones de la imagen anterior\n",
    "    im2 = Image.new('RGB', (x, y))\n",
    "    i = 0\n",
    "    while i < x:\n",
    "        j = 0\n",
    "        while j < y:\n",
    "            #Obtenemos el valor RGB de cada pixel\n",
    "            r, g, b = im.getpixel((i,j))\n",
    "            #Obtenemos su equivalente en la escala de gris\n",
    "            p = (r * 0.3 + g * 0.59 + b * 0.11)\n",
    "            #Ese valor lo convertimos a entero\n",
    "            gris = int(p)\n",
    "            pixel = tuple([gris, gris, gris])\n",
    "            #En la nueva imagen en la posición i, j agregamos el nuevo color \n",
    "            im2.putpixel((i,j), pixel)\n",
    "            j += 1\n",
    "        i += 1\n",
    "    return im2\n",
    "\n",
    "def add_blank_space(img_B_W , h_blank = 50 , w_blank = 50 , h_original =256, w_original=256):\n",
    "    '''\n",
    "    Agregar espacio en blanco a la imagen input blanco y negro\n",
    "    ''' \n",
    "    #por defecto se va a hacer un recorte de 50 por 50 aleatorio posicionado aleatoriamente pero que este el    cuadrado completo\n",
    "    img_white = Image.new('RGB', (h_blank, w_blank), \"white\")    #crear cuadrado blanco\n",
    "    pos_h_random = np.random.randint(h_original - h_blank)   #position height blank space\n",
    "    pos_w_random = np.random.randint(w_original - w_blank)    #position widht blank space\n",
    "    img_B_W.paste(img_white,(pos_h_random, pos_w_random))\n",
    "    return img_B_W\n",
    "\n",
    "\n",
    "def preprocess_img(final_height, final_width, height_white, width_white, path):\n",
    "    '''\n",
    "    Funcion que lee una imagen y redimensiona al valor deseado y luego crea una imagen blanco y negro y la une con el original. - Crear dataset en formato deseado real-b&w\n",
    "    '''\n",
    "    img_read = Image.open(path)  #leer imagen\n",
    "    img_resized = img_read.resize((final_height,final_width))   #reescalar imagen\n",
    "    img_bw = escala_de_grises(img_resized)  #imagen reescalada en blanco y negro\n",
    "    img_bw = add_blank_space(img_bw, height_white, width_white, final_height,final_width)   #agregar un cuadrado blanco a la imagen input\n",
    "\n",
    "    #unir fotos real (izquierda) y blanco y negro (derecha)\n",
    "    list_images = [img_resized, img_bw]\n",
    "\n",
    "    final_img = Image.new('RGB', (final_width * 2, final_height))\n",
    "\n",
    "    x_offset = 0\n",
    "    for im in list_images:\n",
    "        final_img.paste(im, (x_offset,0))\n",
    "        x_offset += im.size[0]\n",
    "\n",
    "    return final_img"
   ]
  },
  {
   "cell_type": "code",
   "execution_count": 3,
   "metadata": {
    "tags": []
   },
   "outputs": [
    {
     "output_type": "stream",
     "name": "stdout",
     "text": "Train, Sí es una carpeta\nTest, Sí es una carpeta\n"
    }
   ],
   "source": [
    "path_data_train = 'E:/Desktop/MLBI - 2020/Proyecto GANs/MI_DATA_SET_ANIMALES/train/'\n",
    "path_data_test = 'E:/Desktop/MLBI - 2020/Proyecto GANs/MI_DATA_SET_ANIMALES/test/'\n",
    "if os.path.isdir(path_data_train):\n",
    "    print(\"Train, Sí es una carpeta\")\n",
    "else:\n",
    "    print(\"Train, No es una carpeta o no existe\")\n",
    "\n",
    "if os.path.isdir(path_data_test):\n",
    "    print(\"Test, Sí es una carpeta\")\n",
    "else:\n",
    "    print(\"Test, No es una carpeta o no existe\")"
   ]
  },
  {
   "cell_type": "code",
   "execution_count": 4,
   "metadata": {},
   "outputs": [],
   "source": [
    "#crear lista con los archivos\n",
    "#lista train\n",
    "def ls(ruta = path_data_train):\n",
    "    return [arch for arch in listdir(ruta) if isfile(join(ruta, arch))]\n",
    "\n",
    "#list test\n",
    "def ls(ruta = path_data_test):\n",
    "    return [arch for arch in listdir(ruta) if isfile(join(ruta, arch))]"
   ]
  },
  {
   "cell_type": "code",
   "execution_count": 5,
   "metadata": {
    "tags": []
   },
   "outputs": [
    {
     "output_type": "stream",
     "name": "stdout",
     "text": "Cantidad de imagenes, Train: 14630\nCantidad de imagenes, Test: 1500\n"
    }
   ],
   "source": [
    "img_path_list_train = ls(path_data_train)   #lista con el path (nombre) de las fotos\n",
    "img_path_list_test = ls(path_data_test)   \n",
    "print('Cantidad de imagenes, Train:',len(img_path_list_train))\n",
    "print('Cantidad de imagenes, Test:',len(img_path_list_test))"
   ]
  },
  {
   "cell_type": "code",
   "execution_count": 6,
   "metadata": {
    "tags": []
   },
   "outputs": [
    {
     "output_type": "stream",
     "name": "stdout",
     "text": "Dimensiones finales de cada imagen:  256 x 256\n"
    }
   ],
   "source": [
    "height = 256   #dimensiones que quiero\n",
    "width = 256   \n",
    "print('Dimensiones finales de cada imagen: ',height, 'x', width)"
   ]
  },
  {
   "cell_type": "code",
   "execution_count": 7,
   "metadata": {
    "tags": []
   },
   "outputs": [
    {
     "output_type": "stream",
     "name": "stdout",
     "text": "Procesando imagen Train:  0 / 14630\nProcesando imagen Train:  50 / 14630\nProcesando imagen Train:  100 / 14630\nProcesando imagen Train:  150 / 14630\nProcesando imagen Train:  200 / 14630\nProcesando imagen Train:  250 / 14630\nProcesando imagen Train:  300 / 14630\nProcesando imagen Train:  350 / 14630\nProcesando imagen Train:  400 / 14630\nProcesando imagen Train:  450 / 14630\nProcesando imagen Train:  500 / 14630\nProcesando imagen Train:  550 / 14630\nProcesando imagen Train:  600 / 14630\nProcesando imagen Train:  650 / 14630\nProcesando imagen Train:  700 / 14630\nProcesando imagen Train:  750 / 14630\nProcesando imagen Train:  800 / 14630\nProcesando imagen Train:  850 / 14630\nProcesando imagen Train:  900 / 14630\nProcesando imagen Train:  950 / 14630\nProcesando imagen Train:  1000 / 14630\nProcesando imagen Train:  1050 / 14630\nProcesando imagen Train:  1100 / 14630\nProcesando imagen Train:  1150 / 14630\nProcesando imagen Train:  1200 / 14630\nProcesando imagen Train:  1250 / 14630\nProcesando imagen Train:  1300 / 14630\nProcesando imagen Train:  1350 / 14630\nProcesando imagen Train:  1400 / 14630\nProcesando imagen Train:  1450 / 14630\nProcesando imagen Train:  1500 / 14630\nProcesando imagen Train:  1550 / 14630\nProcesando imagen Train:  1600 / 14630\nProcesando imagen Train:  1650 / 14630\nProcesando imagen Train:  1700 / 14630\nProcesando imagen Train:  1750 / 14630\nProcesando imagen Train:  1800 / 14630\nProcesando imagen Train:  1850 / 14630\nProcesando imagen Train:  1900 / 14630\nProcesando imagen Train:  1950 / 14630\nProcesando imagen Train:  2000 / 14630\nProcesando imagen Train:  2050 / 14630\nProcesando imagen Train:  2100 / 14630\nProcesando imagen Train:  2150 / 14630\nProcesando imagen Train:  2200 / 14630\nProcesando imagen Train:  2250 / 14630\nProcesando imagen Train:  2300 / 14630\nProcesando imagen Train:  2350 / 14630\nProcesando imagen Train:  2400 / 14630\nProcesando imagen Train:  2450 / 14630\nProcesando imagen Train:  2500 / 14630\nProcesando imagen Train:  2550 / 14630\nProcesando imagen Train:  2600 / 14630\nProcesando imagen Train:  2650 / 14630\nProcesando imagen Train:  2700 / 14630\nProcesando imagen Train:  2750 / 14630\nProcesando imagen Train:  2800 / 14630\nProcesando imagen Train:  2850 / 14630\nProcesando imagen Train:  2900 / 14630\nProcesando imagen Train:  2950 / 14630\nProcesando imagen Train:  3000 / 14630\nProcesando imagen Train:  3050 / 14630\nProcesando imagen Train:  3100 / 14630\nProcesando imagen Train:  3150 / 14630\nProcesando imagen Train:  3200 / 14630\nProcesando imagen Train:  3250 / 14630\nProcesando imagen Train:  3300 / 14630\nProcesando imagen Train:  3350 / 14630\nProcesando imagen Train:  3400 / 14630\nProcesando imagen Train:  3450 / 14630\nProcesando imagen Train:  3500 / 14630\nProcesando imagen Train:  3550 / 14630\nProcesando imagen Train:  3600 / 14630\nProcesando imagen Train:  3650 / 14630\nProcesando imagen Train:  3700 / 14630\nProcesando imagen Train:  3750 / 14630\nProcesando imagen Train:  3800 / 14630\nProcesando imagen Train:  3850 / 14630\nProcesando imagen Train:  3900 / 14630\nProcesando imagen Train:  3950 / 14630\nProcesando imagen Train:  4000 / 14630\nProcesando imagen Train:  4050 / 14630\nProcesando imagen Train:  4100 / 14630\nProcesando imagen Train:  4150 / 14630\nProcesando imagen Train:  4200 / 14630\nProcesando imagen Train:  4250 / 14630\nProcesando imagen Train:  4300 / 14630\nProcesando imagen Train:  4350 / 14630\nProcesando imagen Train:  4400 / 14630\nProcesando imagen Train:  4450 / 14630\nProcesando imagen Train:  4500 / 14630\nProcesando imagen Train:  4550 / 14630\nProcesando imagen Train:  4600 / 14630\nProcesando imagen Train:  4650 / 14630\nProcesando imagen Train:  4700 / 14630\nProcesando imagen Train:  4750 / 14630\nProcesando imagen Train:  4800 / 14630\nProcesando imagen Train:  4850 / 14630\nProcesando imagen Train:  4900 / 14630\nProcesando imagen Train:  4950 / 14630\nProcesando imagen Train:  5000 / 14630\nProcesando imagen Train:  5050 / 14630\nProcesando imagen Train:  5100 / 14630\nProcesando imagen Train:  5150 / 14630\nProcesando imagen Train:  5200 / 14630\nProcesando imagen Train:  5250 / 14630\nProcesando imagen Train:  5300 / 14630\nProcesando imagen Train:  5350 / 14630\nProcesando imagen Train:  5400 / 14630\nProcesando imagen Train:  5450 / 14630\nProcesando imagen Train:  5500 / 14630\nProcesando imagen Train:  5550 / 14630\nProcesando imagen Train:  5600 / 14630\nProcesando imagen Train:  5650 / 14630\nProcesando imagen Train:  5700 / 14630\nProcesando imagen Train:  5750 / 14630\nProcesando imagen Train:  5800 / 14630\nProcesando imagen Train:  5850 / 14630\nProcesando imagen Train:  5900 / 14630\nProcesando imagen Train:  5950 / 14630\nProcesando imagen Train:  6000 / 14630\nProcesando imagen Train:  6050 / 14630\nProcesando imagen Train:  6100 / 14630\nProcesando imagen Train:  6150 / 14630\nProcesando imagen Train:  6200 / 14630\nProcesando imagen Train:  6250 / 14630\nProcesando imagen Train:  6300 / 14630\nProcesando imagen Train:  6350 / 14630\nProcesando imagen Train:  6400 / 14630\nProcesando imagen Train:  6450 / 14630\nProcesando imagen Train:  6500 / 14630\nProcesando imagen Train:  6550 / 14630\nProcesando imagen Train:  6600 / 14630\nProcesando imagen Train:  6650 / 14630\nProcesando imagen Train:  6700 / 14630\nProcesando imagen Train:  6750 / 14630\nProcesando imagen Train:  6800 / 14630\nProcesando imagen Train:  6850 / 14630\nProcesando imagen Train:  6900 / 14630\nProcesando imagen Train:  6950 / 14630\nProcesando imagen Train:  7000 / 14630\nProcesando imagen Train:  7050 / 14630\nProcesando imagen Train:  7100 / 14630\nProcesando imagen Train:  7150 / 14630\nProcesando imagen Train:  7200 / 14630\nProcesando imagen Train:  7250 / 14630\nProcesando imagen Train:  7300 / 14630\nProcesando imagen Train:  7350 / 14630\nProcesando imagen Train:  7400 / 14630\nProcesando imagen Train:  7450 / 14630\nProcesando imagen Train:  7500 / 14630\nProcesando imagen Train:  7550 / 14630\nProcesando imagen Train:  7600 / 14630\nProcesando imagen Train:  7650 / 14630\nProcesando imagen Train:  7700 / 14630\nProcesando imagen Train:  7750 / 14630\nProcesando imagen Train:  7800 / 14630\nProcesando imagen Train:  7850 / 14630\nProcesando imagen Train:  7900 / 14630\nProcesando imagen Train:  7950 / 14630\nProcesando imagen Train:  8000 / 14630\nProcesando imagen Train:  8050 / 14630\nProcesando imagen Train:  8100 / 14630\nProcesando imagen Train:  8150 / 14630\nProcesando imagen Train:  8200 / 14630\nProcesando imagen Train:  8250 / 14630\nProcesando imagen Train:  8300 / 14630\nProcesando imagen Train:  8350 / 14630\nProcesando imagen Train:  8400 / 14630\nProcesando imagen Train:  8450 / 14630\nProcesando imagen Train:  8500 / 14630\nProcesando imagen Train:  8550 / 14630\nProcesando imagen Train:  8600 / 14630\nProcesando imagen Train:  8650 / 14630\nProcesando imagen Train:  8700 / 14630\nProcesando imagen Train:  8750 / 14630\nProcesando imagen Train:  8800 / 14630\nProcesando imagen Train:  8850 / 14630\nProcesando imagen Train:  8900 / 14630\nProcesando imagen Train:  8950 / 14630\nProcesando imagen Train:  9000 / 14630\nProcesando imagen Train:  9050 / 14630\nProcesando imagen Train:  9100 / 14630\nProcesando imagen Train:  9150 / 14630\nProcesando imagen Train:  9200 / 14630\nProcesando imagen Train:  9250 / 14630\nProcesando imagen Train:  9300 / 14630\nProcesando imagen Train:  9350 / 14630\nProcesando imagen Train:  9400 / 14630\nProcesando imagen Train:  9450 / 14630\nProcesando imagen Train:  9500 / 14630\nProcesando imagen Train:  9550 / 14630\nProcesando imagen Train:  9600 / 14630\nProcesando imagen Train:  9650 / 14630\nProcesando imagen Train:  9700 / 14630\nProcesando imagen Train:  9750 / 14630\nProcesando imagen Train:  9800 / 14630\nProcesando imagen Train:  9850 / 14630\nProcesando imagen Train:  9900 / 14630\nProcesando imagen Train:  9950 / 14630\nProcesando imagen Train:  10000 / 14630\nProcesando imagen Train:  10050 / 14630\nProcesando imagen Train:  10100 / 14630\nProcesando imagen Train:  10150 / 14630\nProcesando imagen Train:  10200 / 14630\nProcesando imagen Train:  10250 / 14630\nProcesando imagen Train:  10300 / 14630\nProcesando imagen Train:  10350 / 14630\nProcesando imagen Train:  10400 / 14630\nProcesando imagen Train:  10450 / 14630\nProcesando imagen Train:  10500 / 14630\nProcesando imagen Train:  10550 / 14630\nProcesando imagen Train:  10600 / 14630\nProcesando imagen Train:  10650 / 14630\nProcesando imagen Train:  10700 / 14630\nProcesando imagen Train:  10750 / 14630\nProcesando imagen Train:  10800 / 14630\nProcesando imagen Train:  10850 / 14630\nProcesando imagen Train:  10900 / 14630\nProcesando imagen Train:  10950 / 14630\nProcesando imagen Train:  11000 / 14630\nProcesando imagen Train:  11050 / 14630\nProcesando imagen Train:  11100 / 14630\nProcesando imagen Train:  11150 / 14630\nProcesando imagen Train:  11200 / 14630\nProcesando imagen Train:  11250 / 14630\nProcesando imagen Train:  11300 / 14630\nProcesando imagen Train:  11350 / 14630\nProcesando imagen Train:  11400 / 14630\nProcesando imagen Train:  11450 / 14630\nProcesando imagen Train:  11500 / 14630\nProcesando imagen Train:  11550 / 14630\nProcesando imagen Train:  11600 / 14630\nProcesando imagen Train:  11650 / 14630\nProcesando imagen Train:  11700 / 14630\nProcesando imagen Train:  11750 / 14630\nProcesando imagen Train:  11800 / 14630\nProcesando imagen Train:  11850 / 14630\nProcesando imagen Train:  11900 / 14630\nProcesando imagen Train:  11950 / 14630\nProcesando imagen Train:  12000 / 14630\nProcesando imagen Train:  12050 / 14630\nProcesando imagen Train:  12100 / 14630\nProcesando imagen Train:  12150 / 14630\nProcesando imagen Train:  12200 / 14630\nProcesando imagen Train:  12250 / 14630\nProcesando imagen Train:  12300 / 14630\nProcesando imagen Train:  12350 / 14630\nProcesando imagen Train:  12400 / 14630\nProcesando imagen Train:  12450 / 14630\nProcesando imagen Train:  12500 / 14630\nProcesando imagen Train:  12550 / 14630\nProcesando imagen Train:  12600 / 14630\nProcesando imagen Train:  12650 / 14630\nProcesando imagen Train:  12700 / 14630\nProcesando imagen Train:  12750 / 14630\nProcesando imagen Train:  12800 / 14630\nProcesando imagen Train:  12850 / 14630\nProcesando imagen Train:  12900 / 14630\nProcesando imagen Train:  12950 / 14630\nProcesando imagen Train:  13000 / 14630\nProcesando imagen Train:  13050 / 14630\nProcesando imagen Train:  13100 / 14630\nProcesando imagen Train:  13150 / 14630\nProcesando imagen Train:  13200 / 14630\nProcesando imagen Train:  13250 / 14630\nProcesando imagen Train:  13300 / 14630\nProcesando imagen Train:  13350 / 14630\nProcesando imagen Train:  13400 / 14630\nProcesando imagen Train:  13450 / 14630\nProcesando imagen Train:  13500 / 14630\nProcesando imagen Train:  13550 / 14630\nProcesando imagen Train:  13600 / 14630\nProcesando imagen Train:  13650 / 14630\nProcesando imagen Train:  13700 / 14630\nProcesando imagen Train:  13750 / 14630\nProcesando imagen Train:  13800 / 14630\nProcesando imagen Train:  13850 / 14630\nProcesando imagen Train:  13900 / 14630\nProcesando imagen Train:  13950 / 14630\nProcesando imagen Train:  14000 / 14630\nProcesando imagen Train:  14050 / 14630\nProcesando imagen Train:  14100 / 14630\nProcesando imagen Train:  14150 / 14630\nProcesando imagen Train:  14200 / 14630\nProcesando imagen Train:  14250 / 14630\nProcesando imagen Train:  14300 / 14630\nProcesando imagen Train:  14350 / 14630\nProcesando imagen Train:  14400 / 14630\nProcesando imagen Train:  14450 / 14630\nProcesando imagen Train:  14500 / 14630\nProcesando imagen Train:  14550 / 14630\nProcesando imagen Train:  14600 / 14630\n"
    }
   ],
   "source": [
    "#crear imagenes train\n",
    "for i in range(len(img_path_list_train)):\n",
    "    if i%50 == 0:\n",
    "        print('Procesando imagen Train: ', i, '/', len(img_path_list_train))\n",
    "    \n",
    "    try:\n",
    "        imagen_to_save = preprocess_img(final_height = height, final_width = width, \n",
    "                                        height_white = 77, width_white = 77,\n",
    "                                        path = path_data_train + img_path_list_train[i])\n",
    "        imagen_to_save.save('data_animals/train/' + str(i)+'.jpg')\n",
    "    \n",
    "    except:\n",
    "        print('error with image', i)\n",
    "        pass"
   ]
  },
  {
   "cell_type": "code",
   "execution_count": 8,
   "metadata": {
    "tags": []
   },
   "outputs": [
    {
     "output_type": "stream",
     "name": "stdout",
     "text": "Procesando imagen Train:  0 / 1500\nProcesando imagen Train:  50 / 1500\nProcesando imagen Train:  100 / 1500\nProcesando imagen Train:  150 / 1500\nProcesando imagen Train:  200 / 1500\nProcesando imagen Train:  250 / 1500\nProcesando imagen Train:  300 / 1500\nProcesando imagen Train:  350 / 1500\nProcesando imagen Train:  400 / 1500\nProcesando imagen Train:  450 / 1500\nProcesando imagen Train:  500 / 1500\nProcesando imagen Train:  550 / 1500\nProcesando imagen Train:  600 / 1500\nProcesando imagen Train:  650 / 1500\nProcesando imagen Train:  700 / 1500\nProcesando imagen Train:  750 / 1500\nProcesando imagen Train:  800 / 1500\nProcesando imagen Train:  850 / 1500\nProcesando imagen Train:  900 / 1500\nProcesando imagen Train:  950 / 1500\nProcesando imagen Train:  1000 / 1500\nProcesando imagen Train:  1050 / 1500\nProcesando imagen Train:  1100 / 1500\nProcesando imagen Train:  1150 / 1500\nProcesando imagen Train:  1200 / 1500\nProcesando imagen Train:  1250 / 1500\nProcesando imagen Train:  1300 / 1500\nProcesando imagen Train:  1350 / 1500\nProcesando imagen Train:  1400 / 1500\nProcesando imagen Train:  1450 / 1500\n"
    }
   ],
   "source": [
    "#crear imagenes test\n",
    "for i in range(len(img_path_list_test)):\n",
    "    if i%50 == 0:\n",
    "        print('Procesando imagen Train: ', i, '/', len(img_path_list_test))\n",
    "    \n",
    "    try:\n",
    "        imagen_to_save = preprocess_img(final_height = height, final_width = width, \n",
    "                                        height_white = 77, width_white = 77,\n",
    "                                        path = path_data_test + img_path_list_test[i])\n",
    "        imagen_to_save.save('data_animals/test/' + str(i)+'.jpg')\n",
    "    \n",
    "    except:\n",
    "        print('error with image', i)\n",
    "        pass"
   ]
  },
  {
   "cell_type": "code",
   "execution_count": null,
   "metadata": {},
   "outputs": [],
   "source": []
  }
 ],
 "metadata": {
  "kernelspec": {
   "display_name": "Python 3.7.6 64-bit ('tf2.x': conda)",
   "language": "python",
   "name": "python_defaultSpec_1595179767233"
  },
  "language_info": {
   "codemirror_mode": {
    "name": "ipython",
    "version": 3
   },
   "file_extension": ".py",
   "mimetype": "text/x-python",
   "name": "python",
   "nbconvert_exporter": "python",
   "pygments_lexer": "ipython3",
   "version": "3.7.6-final"
  }
 },
 "nbformat": 4,
 "nbformat_minor": 4
}