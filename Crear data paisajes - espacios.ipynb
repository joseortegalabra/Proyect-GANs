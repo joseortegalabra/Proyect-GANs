{
 "cells": [
  {
   "cell_type": "code",
   "execution_count": 1,
   "metadata": {},
   "outputs": [],
   "source": [
    "import numpy as np\n",
    "import pandas as pd\n",
    "import matplotlib.pyplot as plt\n",
    "import os\n",
    "from PIL import Image"
   ]
  },
  {
   "cell_type": "code",
   "execution_count": 2,
   "metadata": {},
   "outputs": [],
   "source": [
    "def escala_de_grises(im):\n",
    "    '''\n",
    "    get from: https://wizardprogrammer.blogspot.com/2019/03/convertir-imagen-blanco-y-negro-python.html\n",
    "    '''\n",
    "    #dimension imagen\n",
    "    x = im.size[0]\n",
    "    y = im.size[1]\n",
    "    #Creamos una nueva imagen con las dimensiones de la imagen anterior\n",
    "    im2 = Image.new('RGB', (x, y))\n",
    "    i = 0\n",
    "    while i < x:\n",
    "        j = 0\n",
    "        while j < y:\n",
    "            #Obtenemos el valor RGB de cada pixel\n",
    "            r, g, b = im.getpixel((i,j))\n",
    "            #Obtenemos su equivalente en la escala de gris\n",
    "            p = (r * 0.3 + g * 0.59 + b * 0.11)\n",
    "            #Ese valor lo convertimos a entero\n",
    "            gris = int(p)\n",
    "            pixel = tuple([gris, gris, gris])\n",
    "            #En la nueva imagen en la posición i, j agregamos el nuevo color \n",
    "            im2.putpixel((i,j), pixel)\n",
    "            j += 1\n",
    "        i += 1\n",
    "    return im2\n",
    "\n",
    "\n",
    "def add_blank_space(img_B_W , h_blank = 50 , w_blank = 50 , h_original =256, w_original=256):\n",
    "    '''\n",
    "    Agregar espacio en blanco a la imagen input blanco y negro\n",
    "    ''' \n",
    "    #por defecto se va a hacer un recorte de 50 por 50 aleatorio posicionado aleatoriamente pero que este el    cuadrado completo\n",
    "    img_white = Image.new('RGB', (h_blank, w_blank), \"white\")    #crear cuadrado blanco\n",
    "    pos_h_random = np.random.randint(h_original - h_blank)   #position height blank space\n",
    "    pos_w_random = np.random.randint(w_original - w_blank)    #position widht blank space\n",
    "    img_B_W.paste(img_white,(pos_h_random, pos_w_random))\n",
    "    return img_B_W\n",
    "\n",
    "\n",
    "def preprocess_img(final_height, final_width, height_white, width_white, path):\n",
    "    '''\n",
    "    Funcion que lee una imagen y redimensiona al valor deseado y luego crea una imagen blanco y negro y la une con el original. - Crear dataset en formato deseado real-b&w\n",
    "    '''\n",
    "    img_read = Image.open(path)  #leer imagen\n",
    "    img_resized = img_read.resize((final_height,final_width))   #reescalar imagen\n",
    "    img_bw = escala_de_grises(img_resized)  #imagen reescalada en blanco y negro\n",
    "    img_bw = add_blank_space(img_bw, height_white, width_white, final_height,final_width)  #cuadro en blanco\n",
    "\n",
    "    #unir fotos real (izquierda) y blanco y negro (derecha)\n",
    "    list_images = [img_resized, img_bw]\n",
    "\n",
    "    final_img = Image.new('RGB', (final_width * 2, final_height))\n",
    "\n",
    "    x_offset = 0\n",
    "    for im in list_images:\n",
    "        final_img.paste(im, (x_offset,0))\n",
    "        x_offset += im.size[0]\n",
    "\n",
    "    return final_img"
   ]
  },
  {
   "cell_type": "code",
   "execution_count": 3,
   "metadata": {
    "tags": []
   },
   "outputs": [
    {
     "output_type": "stream",
     "name": "stdout",
     "text": "Sí es una carpeta\n"
    }
   ],
   "source": [
    "path_data = 'E:/Desktop/MLBI - 2020/Proyecto GANs/MI_DATA_SET_PAISAJES/'\n",
    "if os.path.isdir(path_data):\n",
    "    print(\"Sí es una carpeta\")\n",
    "else:\n",
    "    print(\"No es una carpeta o no existe\")"
   ]
  },
  {
   "cell_type": "code",
   "execution_count": 4,
   "metadata": {},
   "outputs": [],
   "source": [
    "from os import listdir\n",
    "from os.path import isfile, join\n",
    "\n",
    "#crear lista con los archivos\n",
    "def ls(ruta = path_data):\n",
    "    return [arch for arch in listdir(ruta) if isfile(join(ruta, arch))]"
   ]
  },
  {
   "cell_type": "code",
   "execution_count": 5,
   "metadata": {
    "tags": []
   },
   "outputs": [
    {
     "output_type": "stream",
     "name": "stdout",
     "text": "Cantidad de imagenes: 1000\n"
    }
   ],
   "source": [
    "img_path_list = ls(path_data)   #lista con el path (nombre) de las fotos\n",
    "print('Cantidad de imagenes:',len(img_path_list))"
   ]
  },
  {
   "cell_type": "code",
   "execution_count": 6,
   "metadata": {
    "tags": []
   },
   "outputs": [
    {
     "output_type": "stream",
     "name": "stdout",
     "text": "Dimensiones finales de cada imagen:  256 x 256\n"
    }
   ],
   "source": [
    "height = 256   #dimensiones que quiero\n",
    "width = 256   \n",
    "print('Dimensiones finales de cada imagen: ',height, 'x', width)"
   ]
  },
  {
   "cell_type": "code",
   "execution_count": 7,
   "metadata": {
    "tags": []
   },
   "outputs": [
    {
     "output_type": "stream",
     "name": "stdout",
     "text": "Procesando imagen: 0 / 1000\nProcesando imagen:  50 / 1000\nProcesando imagen:  100 / 1000\nerror with image 124\nProcesando imagen:  150 / 1000\nProcesando imagen:  200 / 1000\nProcesando imagen:  250 / 1000\nProcesando imagen:  300 / 1000\nerror with image 315\nProcesando imagen:  350 / 1000\nProcesando imagen:  400 / 1000\nProcesando imagen:  450 / 1000\nProcesando imagen:  500 / 1000\nProcesando imagen:  550 / 1000\nProcesando imagen:  600 / 1000\nProcesando imagen:  650 / 1000\nProcesando imagen:  700 / 1000\nProcesando imagen:  750 / 1000\nProcesando imagen:  800 / 1000\nProcesando imagen:  850 / 1000\nProcesando imagen:  900 / 1000\nProcesando imagen:  950 / 1000\n"
    }
   ],
   "source": [
    "#crear imagenes\n",
    "for i in range(len(img_path_list)):\n",
    "    if i%50 == 0:\n",
    "        print('Procesando imagen: ', i, '/', len(img_path_list))\n",
    "    \n",
    "    try:\n",
    "        imagen_to_save = preprocess_img(final_height = height, final_width = width, \n",
    "                                        height_white = 77, width_white = 77,\n",
    "                                        path = path_data + img_path_list[i])\n",
    "    \n",
    "        if i < 800:  #conjunto de train\n",
    "             imagen_to_save.save('data_paisajes_blank/train/' + str(i)+'.jpg')\n",
    "\n",
    "        if i >= 800:   #conjunto de test\n",
    "             imagen_to_save.save('data_paisajes_blank/test/' + str(i)+'.jpg')\n",
    "    \n",
    "    except:\n",
    "        print('error with image', i)\n",
    "        pass"
   ]
  },
  {
   "cell_type": "code",
   "execution_count": null,
   "metadata": {},
   "outputs": [],
   "source": []
  }
 ],
 "metadata": {
  "kernelspec": {
   "display_name": "Python 3.7.6 64-bit ('tf2.x': conda)",
   "language": "python",
   "name": "python_defaultSpec_1595486598002"
  },
  "language_info": {
   "codemirror_mode": {
    "name": "ipython",
    "version": 3
   },
   "file_extension": ".py",
   "mimetype": "text/x-python",
   "name": "python",
   "nbconvert_exporter": "python",
   "pygments_lexer": "ipython3",
   "version": "3.7.6-final"
  }
 },
 "nbformat": 4,
 "nbformat_minor": 4
}