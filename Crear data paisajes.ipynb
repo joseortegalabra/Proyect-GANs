{
 "cells": [
  {
   "cell_type": "code",
   "execution_count": 6,
   "metadata": {},
   "outputs": [],
   "source": [
    "import numpy as np\n",
    "import pandas as pd\n",
    "import matplotlib.pyplot as plt\n",
    "import os\n",
    "from PIL import Image\n",
    "from os import listdir\n",
    "from os.path import isfile, join"
   ]
  },
  {
   "cell_type": "code",
   "execution_count": 7,
   "metadata": {},
   "outputs": [],
   "source": [
    "def escala_de_grises(im):\n",
    "    '''\n",
    "    get from: https://wizardprogrammer.blogspot.com/2019/03/convertir-imagen-blanco-y-negro-python.html\n",
    "    '''\n",
    "    #dimension imagen\n",
    "    x = im.size[0]\n",
    "    y = im.size[1]\n",
    "    #Creamos una nueva imagen con las dimensiones de la imagen anterior\n",
    "    im2 = Image.new('RGB', (x, y))\n",
    "    i = 0\n",
    "    while i < x:\n",
    "        j = 0\n",
    "        while j < y:\n",
    "            #Obtenemos el valor RGB de cada pixel\n",
    "            r, g, b = im.getpixel((i,j))\n",
    "            #Obtenemos su equivalente en la escala de gris\n",
    "            p = (r * 0.3 + g * 0.59 + b * 0.11)\n",
    "            #Ese valor lo convertimos a entero\n",
    "            gris = int(p)\n",
    "            pixel = tuple([gris, gris, gris])\n",
    "            #En la nueva imagen en la posición i, j agregamos el nuevo color \n",
    "            im2.putpixel((i,j), pixel)\n",
    "            j += 1\n",
    "        i += 1\n",
    "    return im2\n",
    "\n",
    "\n",
    "def preprocess_img(final_height, final_width, path):\n",
    "    '''\n",
    "    Funcion que lee una imagen y redimensiona al valor deseado y luego crea una imagen blanco y negro y la une con el original. - Crear dataset en formato deseado real-b&w\n",
    "    '''\n",
    "    img_read = Image.open(path)  #leer imagen\n",
    "    img_resized = img_read.resize((final_height,final_width))   #reescalar imagen\n",
    "    img_bw = escala_de_grises(img_resized)  #imagen reescalada en blanco y negro\n",
    "\n",
    "    #unir fotos real (izquierda) y blanco y negro (derecha)\n",
    "    list_images = [img_resized, img_bw]\n",
    "\n",
    "    final_img = Image.new('RGB', (final_width * 2, final_height))\n",
    "\n",
    "    x_offset = 0\n",
    "    for im in list_images:\n",
    "        final_img.paste(im, (x_offset,0))\n",
    "        x_offset += im.size[0]\n",
    "\n",
    "    return final_img\n",
    "\n",
    "#crear lista con los archivos\n",
    "def ls(ruta = path_data):\n",
    "    return [arch for arch in listdir(ruta) if isfile(join(ruta, arch))]\n",
    "\n"
   ]
  },
  {
   "cell_type": "code",
   "execution_count": 8,
   "metadata": {
    "tags": []
   },
   "outputs": [
    {
     "output_type": "stream",
     "name": "stdout",
     "text": "Sí es una carpeta\n"
    }
   ],
   "source": [
    "path_data = 'E:/Desktop/MLBI - 2020/Proyecto GANs/MI_DATA_SET_PAISAJES/'\n",
    "if os.path.isdir(path_data):\n",
    "    print(\"Sí es una carpeta\")\n",
    "else:\n",
    "    print(\"No es una carpeta o no existe\")"
   ]
  },
  {
   "cell_type": "code",
   "execution_count": 10,
   "metadata": {
    "tags": []
   },
   "outputs": [
    {
     "output_type": "stream",
     "name": "stdout",
     "text": "Cantidad de imagenes: 1000\n"
    }
   ],
   "source": [
    "img_path_list = ls(path_data)   #lista con el path (nombre) de las fotos\n",
    "print('Cantidad de imagenes:',len(img_path_list))"
   ]
  },
  {
   "cell_type": "code",
   "execution_count": 11,
   "metadata": {
    "tags": []
   },
   "outputs": [
    {
     "output_type": "stream",
     "name": "stdout",
     "text": "Dimensiones finales de cada imagen:  256 x 256\n"
    }
   ],
   "source": [
    "height = 256   #dimensiones que quiero\n",
    "width = 256   \n",
    "print('Dimensiones finales de cada imagen: ',height, 'x', width)"
   ]
  },
  {
   "cell_type": "code",
   "execution_count": 12,
   "metadata": {
    "tags": []
   },
   "outputs": [
    {
     "output_type": "stream",
     "name": "stdout",
     "text": "Procesando imagen:  0\nProcesando imagen:  50\nProcesando imagen:  100\nerror with image 124\nProcesando imagen:  150\nProcesando imagen:  200\nProcesando imagen:  250\nProcesando imagen:  300\nerror with image 315\nProcesando imagen:  350\nProcesando imagen:  400\nProcesando imagen:  450\nProcesando imagen:  500\nProcesando imagen:  550\nProcesando imagen:  600\nProcesando imagen:  650\nProcesando imagen:  700\nProcesando imagen:  750\nProcesando imagen:  800\nProcesando imagen:  850\nProcesando imagen:  900\nProcesando imagen:  950\n"
    }
   ],
   "source": [
    "#crear imagenes\n",
    "for i in range(len(img_path_list)):\n",
    "    if i%50 == 0:\n",
    "        print('Procesando imagen: ', i)\n",
    "    \n",
    "    try:\n",
    "        imagen_to_save = preprocess_img(height, width, path = path_data + img_path_list[i] )\n",
    "    \n",
    "        if i < 800:  #conjunto de train\n",
    "             imagen_to_save.save('data/train/' + str(i)+'.jpg')\n",
    "\n",
    "        if i >= 800:   #conjunto de test\n",
    "             imagen_to_save.save('data/test/' + str(i)+'.jpg')\n",
    "    \n",
    "    except:\n",
    "        print('error with image', i)\n",
    "        pass"
   ]
  }
 ],
 "metadata": {
  "kernelspec": {
   "display_name": "Python 3.7.6 64-bit ('tf2.x': conda)",
   "language": "python",
   "name": "python_defaultSpec_1595138138951"
  },
  "language_info": {
   "codemirror_mode": {
    "name": "ipython",
    "version": 3
   },
   "file_extension": ".py",
   "mimetype": "text/x-python",
   "name": "python",
   "nbconvert_exporter": "python",
   "pygments_lexer": "ipython3",
   "version": "3.7.6-final"
  }
 },
 "nbformat": 4,
 "nbformat_minor": 4
}