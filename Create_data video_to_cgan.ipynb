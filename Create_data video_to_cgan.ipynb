{
 "cells": [
  {
   "cell_type": "code",
   "execution_count": 1,
   "metadata": {
    "tags": []
   },
   "outputs": [],
   "source": [
    "import numpy as np\n",
    "import matplotlib.pyplot as plt\n",
    "import os\n",
    "from PIL import Image\n",
    "from os import listdir\n",
    "from os.path import isfile, join\n",
    "\n",
    "def escala_de_grises(im):\n",
    "    '''\n",
    "    get from: https://wizardprogrammer.blogspot.com/2019/03/convertir-imagen-blanco-y-negro-python.html\n",
    "    '''\n",
    "    #dimension imagen\n",
    "    x = im.size[0]\n",
    "    y = im.size[1]\n",
    "    #Crear nueva imagen con las dimensiones de la imagen anterior\n",
    "    im2 = Image.new('RGB', (x, y))\n",
    "    i = 0\n",
    "    while i < x:\n",
    "        j = 0\n",
    "        while j < y:\n",
    "            #Obtenemos el valor RGB de cada pixel\n",
    "            r, g, b = im.getpixel((i,j))\n",
    "            #Obtenemos su equivalente en la escala de gris\n",
    "            p = (r * 0.3 + g * 0.59 + b * 0.11)\n",
    "            #Ese valor lo convertimos a entero\n",
    "            gris = int(p)\n",
    "            pixel = tuple([gris, gris, gris])\n",
    "            #En la nueva imagen en la posición i, j agregamos el nuevo color \n",
    "            im2.putpixel((i,j), pixel)\n",
    "            j += 1\n",
    "        i += 1\n",
    "    return im2\n",
    "\n",
    "def add_blank_space_fixed(img_B_W ,random_blank, h_blank = 50 , w_blank = 50 , h_original =256, w_original=256, pos_x_blank = 0, pos_y_blank = 0):  \n",
    "    '''\n",
    "    Agregar espacio en blanco a la imagen input blanco y negro.\n",
    "    img_B_W: imagen a extraer espacio en blanco\n",
    "    random_blank: True o False, si se quiere un recorte random o no\n",
    "    h_blank: tamaño horizonal del recorte\n",
    "    w_blank: tamaño vertical del recorte\n",
    "    h_original: tamaño de la imagen\n",
    "    w_original: tamaño de la imagen\n",
    "    pos_x_blank: opcional si se elegio un recorte no aleatorio, dar coordenada x al espacio en blanco\n",
    "    pos_y_blank: opcional si se elegio un recorte no aleatorio, dar coordenada x al espacio en blanco\n",
    "    ''' \n",
    "    img_white = Image.new('RGB', (h_blank, w_blank), \"white\")   \n",
    "    if random_blank == True:  #recorte en blanco random\n",
    "        pos_h_random = np.random.randint(h_original - h_blank)  \n",
    "        pos_w_random = np.random.randint(w_original - w_blank)    \n",
    "    if random_blank == False:  #coordenadas del recorte\n",
    "        pos_h_random = pos_x_blank\n",
    "        pos_w_random = pos_y_blank\n",
    "    img_B_W.paste(img_white,(pos_h_random, pos_w_random))\n",
    "    return img_B_W\n",
    "\n",
    "def preprocess_img(final_height,final_width, blank, random_blank, path, blank_x = 100, blank_y = 100):\n",
    "    '''\n",
    "    Funcion que lee una imagen y redimensiona al valor deseado y luego crea una imagen blanco y negro y     la une con el original. - Crear dataset en formato deseado real-b&w\n",
    "    '''\n",
    "    img_read = Image.open(path)  #leer imagen\n",
    "    img_resized = img_read.resize((final_height,final_width))   #reescalar imagen\n",
    "    img_bw = escala_de_grises(img_resized)  #imagen reescalada en blanco y negro\n",
    "    if blank == True:\n",
    "        img_bw = add_blank_space_fixed(img_bw, random_blank, 77, 77, 256, 256, blank_x, blank_y) \n",
    "\n",
    "    #unir fotos real (izquierda) y blanco y negro (derecha)\n",
    "    list_images = [img_resized, img_bw]\n",
    "\n",
    "    final_img = Image.new('RGB', (final_width * 2, final_height))\n",
    "\n",
    "    x_offset = 0\n",
    "    for im in list_images:\n",
    "        final_img.paste(im, (x_offset,0))\n",
    "        x_offset += im.size[0]\n",
    "\n",
    "    return final_img\n",
    "\n",
    "def create_file_path(path):\n",
    "    path_frame_original = [arch for arch in listdir(path) if isfile(join(path, arch))] \n",
    "    path_ok = [str(x) + '.jpg' for x in range(len(path_frame_original))]\n",
    "    return path_ok\n"
   ]
  },
  {
   "cell_type": "code",
   "execution_count": 2,
   "metadata": {
    "tags": []
   },
   "outputs": [
    {
     "output_type": "stream",
     "name": "stdout",
     "text": "Leer frames originales, transformarlos a formato de entrada a la pix2pix\n"
    }
   ],
   "source": [
    "print('Leer frames originales, transformarlos a formato de entrada a la pix2pix')"
   ]
  },
  {
   "cell_type": "code",
   "execution_count": 3,
   "metadata": {
    "tags": []
   },
   "outputs": [
    {
     "output_type": "stream",
     "name": "stdout",
     "text": "Revisión existencia de carpetas de origen y de destino\n\nOrigen. Sí es una carpeta\nDestino. Sí es una carpeta\n"
    }
   ],
   "source": [
    "#parametros\n",
    "path_data = 'E:/Desktop/MLBI - 2020/Proyecto GANs/Data animals/Frames_original/dog select.mp4/'#carpeta de origen\n",
    "destiny_folder = 'E:/Desktop/MLBI - 2020/Proyecto GANs/Data animals/To pix2pix/dog select.mp4/'#carpeta de destino\n",
    "height = 256   #Dimensiones de las imagenes reales y de entrada\n",
    "width = 256   \n",
    "\n",
    "print('Revisión existencia de carpetas de origen y de destino\\n')\n",
    "if os.path.isdir(path_data):\n",
    "    print(\"Origen. Sí es una carpeta\")\n",
    "else:\n",
    "    print(\"Origen. No es una carpeta o no existe\")\n",
    "\n",
    "if os.path.isdir(destiny_folder):\n",
    "    print(\"Destino. Sí es una carpeta\")\n",
    "else:\n",
    "    print(\"Destino. No es una carpeta o no existe\")"
   ]
  },
  {
   "cell_type": "code",
   "execution_count": 4,
   "metadata": {
    "tags": []
   },
   "outputs": [
    {
     "output_type": "stream",
     "name": "stdout",
     "text": "Procesando imagen:  0\nProcesando imagen:  19\nProcesando imagen:  38\nProcesando imagen:  57\nProcesando imagen:  76\nProcesando imagen:  95\nProcesando imagen:  114\nProcesando imagen:  133\nProcesando imagen:  152\nProcesando imagen:  171\nProcesando imagen:  190\n"
    }
   ],
   "source": [
    "#crear lista con los archivos \n",
    "img_path_list = create_file_path(path_data)  \n",
    "\n",
    "#crear imagenes\n",
    "for i in range(len(img_path_list)):\n",
    "    skip = int(len(img_path_list)/10)\n",
    "    if i%skip == 0:\n",
    "        print('Procesando imagen: ', i)\n",
    "    \n",
    "    try:\n",
    "        imagen_to_save = preprocess_img(final_height = height, \n",
    "                                        final_width = width, \n",
    "                                        blank = True, \n",
    "                                        random_blank = False,\n",
    "                                        path = path_data + img_path_list[i],     #parth origen de los frames\n",
    "                                        blank_x = 100, \n",
    "                                        blank_y = 100 )\n",
    "        \n",
    "        imagen_to_save.save(destiny_folder + str(i)+'.jpg')   #nombre de archivo a ser guardado\n",
    "\n",
    "    except:\n",
    "        print('error with image', i)\n",
    "        pass"
   ]
  }
 ],
 "metadata": {
  "kernelspec": {
   "display_name": "Python 3.7.6 64-bit ('tf2.x': conda)",
   "language": "python",
   "name": "python_defaultSpec_1598309269891"
  },
  "language_info": {
   "codemirror_mode": {
    "name": "ipython",
    "version": 3
   },
   "file_extension": ".py",
   "mimetype": "text/x-python",
   "name": "python",
   "nbconvert_exporter": "python",
   "pygments_lexer": "ipython3",
   "version": "3.7.6-final"
  }
 },
 "nbformat": 4,
 "nbformat_minor": 4
}