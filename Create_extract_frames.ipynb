{
 "metadata": {
  "language_info": {
   "codemirror_mode": {
    "name": "ipython",
    "version": 3
   },
   "file_extension": ".py",
   "mimetype": "text/x-python",
   "name": "python",
   "nbconvert_exporter": "python",
   "pygments_lexer": "ipython3",
   "version": "3.7.6-final"
  },
  "orig_nbformat": 2,
  "kernelspec": {
   "name": "python_defaultSpec_1598287767797",
   "display_name": "Python 3.7.6 64-bit ('tf2.x': conda)"
  }
 },
 "nbformat": 4,
 "nbformat_minor": 2,
 "cells": [
  {
   "cell_type": "code",
   "execution_count": 9,
   "metadata": {
    "tags": []
   },
   "outputs": [],
   "source": [
    "#extract frames de todos los videos descargados\n",
    "import numpy as np\n",
    "import os\n",
    "from os import listdir\n",
    "from os.path import isfile, join\n",
    "import cv2"
   ]
  },
  {
   "cell_type": "code",
   "execution_count": 13,
   "metadata": {},
   "outputs": [],
   "source": [
    "def ls(ruta): #crear lista con los archivos\n",
    "    return [arch for arch in listdir(ruta) if isfile(join(ruta, arch))]\n",
    "\n",
    "def create_final_folders(folders ,path_destiny_file):  #create folders donde guardar los frames de los videos\n",
    "    for path in folders:\n",
    "        path_final = os.path.join(path_destiny_file, path) \n",
    "        os.mkdir(path_final)\n",
    "\n",
    "def extract_frames(path_folder, path_destiny_file, path_file):\n",
    "    for file in path_file:\n",
    "        print('File read: ', file)\n",
    "        cap= cv2.VideoCapture(path_folder + file)\n",
    "        i=0\n",
    "        while(cap.isOpened()):\n",
    "            ret, frame = cap.read()\n",
    "            if ret == False:\n",
    "                break\n",
    "            cv2.imwrite(os.path.join(path_destiny_file, file) +'/' +str(i)+'.jpg',frame) \n",
    "            i+=1\n",
    "        \n",
    "        cap.release()\n",
    "        cv2.destroyAllWindows()"
   ]
  },
  {
   "cell_type": "code",
   "execution_count": 18,
   "metadata": {
    "tags": []
   },
   "outputs": [
    {
     "output_type": "stream",
     "name": "stdout",
     "text": "Revisar existencia de carpetas de origen\n\nOrigen. Sí es una carpeta\n"
    }
   ],
   "source": [
    "path_data = 'E:/Desktop/MLBI - 2020/Proyecto GANs/Data animals/Data/'   #carpeta con videos\n",
    "final_folder = 'E:/Desktop/MLBI - 2020/Proyecto GANs/Data animals/Frames_original/'   #folder donde guardar frames de los videos\n",
    "\n",
    "print('Revisar existencia de carpetas de origen\\n')\n",
    "if os.path.isdir(path_data):\n",
    "    print(\"Origen. Sí es una carpeta\")\n",
    "else:\n",
    "    print(\"Destino. No es una carpeta o no existe\")"
   ]
  },
  {
   "cell_type": "code",
   "execution_count": 19,
   "metadata": {
    "tags": []
   },
   "outputs": [],
   "source": [
    "video_path_list = ls(path_data)   #crear lista con nombre de los videos a transformarse\n",
    "\n",
    "create_final_folders(folders = video_path_list, path_destiny_file = final_folder) \n",
    "#create folders donde guardar los frames de los videos en la carpeta de salida\n",
    "\n",
    "extract_frames(path_folder = path_data,     #carpeta de entrada\n",
    "               path_destiny_file = final_folder      #carpeta de salida  \n",
    "               path_file = video_path_list, #nombre de las carpetas dentro del destino donde se guardan los videos\n",
    "               )"
   ]
  }
 ]
}